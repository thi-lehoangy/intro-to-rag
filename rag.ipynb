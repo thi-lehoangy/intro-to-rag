{
 "cells": [
  {
   "cell_type": "code",
   "execution_count": 19,
   "metadata": {},
   "outputs": [],
   "source": [
    "PDF_FILE = \"ThiLe_Resume.pdf\"\n",
    "MODEL = \"llama3.2\""
   ]
  },
  {
   "cell_type": "markdown",
   "metadata": {},
   "source": [
    "# Breaking down pdf into multiple pages"
   ]
  },
  {
   "cell_type": "code",
   "execution_count": 20,
   "metadata": {},
   "outputs": [
    {
     "name": "stdout",
     "output_type": "stream",
     "text": [
      "Number of pages: 1\n",
      "Length of a page: 4724\n",
      "Content of a page: Thi(T ea)Let h i l e h o a n g y @ g m a i l . c o m|+ 1 ( 9 8 4 ) 2 3 4 - 8 5 3 1|l i n k e d i n . c o m / i n / t h i l e h o a n g y|g i t h u b . c o m / t h i - l e h o a n g yE d u c a t i o nU n i v e r s i t yo fN o r t hC a r o l i n aa tC h a p e lH i l l12/2023B a c h e l o r ’ si nC o m p u t e rS c i e n c ew i t hH i g h e s tD i s t i n c t i o n,G P A :3 . 9 / 4 . 0C o u r s e s :D a t aS t r u c t u r e s&A l g o r i t h m s ,C o m p u t e rO r g a n i z a t i o n ,S y s t e mD e s i g n ,M o b i l eC o m p u t i n g ,F u n c t i o n a lP r o g r a m m i n gL a n g u a g e s ,S o f t w a r eE n g i n e e r i n gL a b ,D a t aS c i e n c ea n dD a t aE n g i n e e r i n gw i t hP y t h o n / R\n",
      "E x p e r i e n c eB O S T O NC O N S U L T I N GG R O U P( B C GX )SoftwareEngineer04/2024–Present\n",
      "●\n",
      "  \n",
      "O p t i m i z e dP y t h o nd a t ap i p e l i n e sw i t hA W Si n t e g r a t i o n ,i n c r e a s i n ge f f i c i e n c yb y3 0 %f o rV D Id e p l o y m e n t\n",
      "●D e v e l o p e dA P I sw i t hN o d e . j sf o rac l i e n ta p p l i c a t i o nw i t hG e n A Ic o m p o n e n tt oe n s u r e1 0 0 %t a s kc o m p l e t i o n\n",
      "●D e l i v e r e dt e s t i n gs u i t e sw i t hJ e s t / P y T e s tt oe n s u r eo n t o l o g ym i g r a t i o na n dd a t ap i p e l i n er u n sw e r es u c c e s s f u l\n",
      "SoftwareEngineeringIntern06/2023–08/2023\n",
      "●O w n e dt h ea u t h e n t i c a t i o nc o m p o n e n tb yi m p l e m e n t i n gR B A Cw i t hM SE n t r aI Da n dA n g u l a ri n t e g r a t i o n ,a u t h o r i z i n g2 0 0 +c l i e n te m p l o y e e st oa c c e s s6 0 0 0 +d a t ar e c o r d sb yr o l e ,a n di n c r e a s i n gd a i l yt a s ke f f i c i e n c y\n",
      "●L e dt h ed e v e l o p m e n ti nA n g u l a ro fm a i nd a s h b o a r dc o m p o n e n t si nar o u t i n gs y s t e mb u i l tf o ra nF 5 0 0c l i e n t\n",
      "G O D A D D YSoftwareEngineeringIntern05/2022–08/2022\n",
      "●R e d u c e dp r o f i l el o a d i n gt i m eb y5 %b yd e v e l o p i n gc u s t o m e rc o n s e n tA P I sw i t hN o d e . j sc o n n e c t i n gw i t hA W S\n",
      "●W o nt h e‘ B e s tC u s t o m e r - f o c u s e dI n n o v a t i o n ’p r i z ea tt h e2 0 2 2I n t e r nH a c k a t h o nb yi m p l e m e n t i n ga l lf r o n t - e n dc o m p o n e n t sw i t hR e a c t ,p r o v i d i n gb u s i n e s so w n e r sf r o m> 1 0 0 0g l o b a ll o c a t i o n sw i t hl o c a ld e s i g ni n s p i r a t i o n s\n",
      "U N CC O M P U T E RS C I E N C ETeachingAssistant(TA)08/2022–12/2023\n",
      "●A c h i e v e dt o p3m o s tc o n t r i b u t i n gT Ab ya s s i s t i n g6 0 +s t u d e n t so nf u l l - s t a c kc o d i n gp r o j e c t sw i t hA n g u l a r ,F a s t A P I ,P y T e s t ,P o s t g r e S Q L ,a n dD o c k e r\n",
      "●T a u g h t1 0 0 +s t u d e n t sd a t as t r u c t u r e s ,w h i c hh e l p e dl a yas t r o n gC Sf o u n d a t i o nf o rt h e mi nl a t e rc o u r s e s\n",
      "P r o j e c t sU N CC SE X P E R I E N C EL A B( C S X L )TechLead&Full-stackDeveloper02/2023–05/2023\n",
      "●S p e a r h e a d e dt h eC S X Lr e s e r v a t i o ns y s t e mt oe n s u r ee q u a ls t u d e n ta c c e s st o> 3 0w o r k s p a c e sa n de q u i p m e n t\n",
      "●P r o m o t e dt ob et e c hl e a do fat e a mo f4a f t e ro w n i n g4 5 %o fh i g h - q u a l i t yP R sa n dp r o a c t i v e l yl e dp l a n n i n g\n",
      "●E s t a b l i s h e daC I / C Dp i p e l i n eu s i n gD o c k e r ,s p e e d i n gu pn e wf e a t u r er e l e a s e sf o ra nA n g u l a r / F a s t A P Ip r o j e c t\n",
      "T R A C K I OFront-endDeveloper02/2022\n",
      "●W o nf i r s tp l a c eo u to f1 , 2 0 0p a r t i c i p a n t sa tH a c kt ot h eF u t u r e4i n‘ S u s t a i n a b l e&I n c l u s i v eF i n a n c e ’a n d‘ B e s tD E I ’h a c k sb yw o r k i n gw i t h2t e a m m a t e st ob u i l dav o i c er e c o g n i t i o nb u d g e ta p pf o rp e o p l ew i t hd i s a b i l i t i e s\n",
      "H A C K N CH A C K E RP O R T A LFull-stackDeveloper09/2021–11/2021\n",
      "●D e v e l o p e da na p p l i c a t i o nw i t hN o d e . j s ,S Q L i t e ,a n dH e r o k uf o rc u s t o m i z i n gQ Rc o d e su s e df o ri n s t a n th a c k e rp r o f i l el o o k u pa n dm a s s - s e n d i n gt h e mt o5 0 0 +p a r t i c i p a n t s\n",
      "●R e d u c e dt r a i n i n gf o r2 0v o l u n t e e r sb y8 0 %a n di m p r o v e dc h e c k - i n ,f o o d ,a n ds w a gw a i tt i m ef o rh a c k e r s\n",
      "S k i l l sLanguages:P y t h o n ,J a v a s c r i p t ,T y p e s c r i p t ,H T M L / C S S ,J a v aFront-end:R e a c t ,A n g u l a r ,B o o t s t r a p ,T a i l w i n dC S SBack-end:N e x t . j s ,E x p r e s s . j s ,F a s t A P I ,D j a n g o ,F l a s kDatabases:S Q L ,S Q L i t e ,P o s t g r e S Q L ,M o n g o D B ,F i r e b a s eOthers:A W S ,A z u r e ,G i t ,J e s t ,P y T e s t ,P o s t m a n\n"
     ]
    }
   ],
   "source": [
    "from langchain_community.document_loaders import PyPDFLoader\n",
    "\n",
    "loader = PyPDFLoader(PDF_FILE)\n",
    "pages = loader.load()\n",
    "\n",
    "print(f\"Number of pages: {len(pages)}\")\n",
    "print(f\"Length of a page: {len(pages[0].page_content)}\")\n",
    "print(f\"Content of a page: {pages[0].page_content}\")"
   ]
  },
  {
   "cell_type": "markdown",
   "metadata": {},
   "source": [
    "# Splitting the pages into overlaping chunks "
   ]
  },
  {
   "cell_type": "code",
   "execution_count": 21,
   "metadata": {},
   "outputs": [
    {
     "name": "stdout",
     "output_type": "stream",
     "text": [
      "Number of chunks: 4\n",
      "Length of a chunk: 1369\n",
      "Content of a chunk: Thi(T ea)Let h i l e h o a n g y @ g m a i l . c o m|+ 1 ( 9 8 4 ) 2 3 4 - 8 5 3 1|l i n k e d i n . c o m / i n / t h i l e h o a n g y|g i t h u b . c o m / t h i - l e h o a n g yE d u c a t i o nU n i v e r s i t yo fN o r t hC a r o l i n aa tC h a p e lH i l l12/2023B a c h e l o r ’ si nC o m p u t e rS c i e n c ew i t hH i g h e s tD i s t i n c t i o n,G P A :3 . 9 / 4 . 0C o u r s e s :D a t aS t r u c t u r e s&A l g o r i t h m s ,C o m p u t e rO r g a n i z a t i o n ,S y s t e mD e s i g n ,M o b i l eC o m p u t i n g ,F u n c t i o n a lP r o g r a m m i n gL a n g u a g e s ,S o f t w a r eE n g i n e e r i n gL a b ,D a t aS c i e n c ea n dD a t aE n g i n e e r i n gw i t hP y t h o n / R\n",
      "E x p e r i e n c eB O S T O NC O N S U L T I N GG R O U P( B C GX )SoftwareEngineer04/2024–Present\n",
      "●\n",
      "  \n",
      "O p t i m i z e dP y t h o nd a t ap i p e l i n e sw i t hA W Si n t e g r a t i o n ,i n c r e a s i n ge f f i c i e n c yb y3 0 %f o rV D Id e p l o y m e n t\n",
      "●D e v e l o p e dA P I sw i t hN o d e . j sf o rac l i e n ta p p l i c a t i o nw i t hG e n A Ic o m p o n e n tt oe n s u r e1 0 0 %t a s kc o m p l e t i o n\n",
      "●D e l i v e r e dt e s t i n gs u i t e sw i t hJ e s t / P y T e s tt oe n s u r eo n t o l o g ym i g r a t i o na n dd a t ap i p e l i n er u n sw e r es u c c e s s f u l\n",
      "SoftwareEngineeringIntern06/2023–08/2023\n"
     ]
    }
   ],
   "source": [
    "from langchain_text_splitters import RecursiveCharacterTextSplitter\n",
    "\n",
    "# chunk_overlap example: chunk #1 has characters 0-1500, chunk #2 has characters 1400-2900\n",
    "splitter = RecursiveCharacterTextSplitter(chunk_size=1500, chunk_overlap=100)\n",
    "\n",
    "chunks = splitter.split_documents(pages)\n",
    "print(f\"Number of chunks: {len(chunks)}\")\n",
    "print(f\"Length of a chunk: {len(chunks[0].page_content)}\")\n",
    "print(f\"Content of a chunk: {chunks[0].page_content}\")"
   ]
  },
  {
   "cell_type": "markdown",
   "metadata": {},
   "source": [
    "# Storing the chunks in a vector store"
   ]
  },
  {
   "cell_type": "code",
   "execution_count": 22,
   "metadata": {},
   "outputs": [],
   "source": [
    "from langchain_community.vectorstores import FAISS\n",
    "from langchain_community.embeddings import OllamaEmbeddings\n",
    "\n",
    "embeddings = OllamaEmbeddings(model=MODEL)\n",
    "vectorstore = FAISS.from_documents(chunks, embeddings)"
   ]
  },
  {
   "cell_type": "markdown",
   "metadata": {},
   "source": [
    "# Setting up a retriever"
   ]
  },
  {
   "cell_type": "code",
   "execution_count": 23,
   "metadata": {},
   "outputs": [
    {
     "data": {
      "text/plain": [
       "[Document(metadata={'source': 'ThiLe_Resume.pdf', 'page': 0}, page_content='●T a u g h t1 0 0 +s t u d e n t sd a t as t r u c t u r e s ,w h i c hh e l p e dl a yas t r o n gC Sf o u n d a t i o nf o rt h e mi nl a t e rc o u r s e s\\nP r o j e c t sU N CC SE X P E R I E N C EL A B( C S X L )TechLead&Full-stackDeveloper02/2023–05/2023\\n●S p e a r h e a d e dt h eC S X Lr e s e r v a t i o ns y s t e mt oe n s u r ee q u a ls t u d e n ta c c e s st o> 3 0w o r k s p a c e sa n de q u i p m e n t\\n●P r o m o t e dt ob et e c hl e a do fat e a mo f4a f t e ro w n i n g4 5 %o fh i g h - q u a l i t yP R sa n dp r o a c t i v e l yl e dp l a n n i n g\\n●E s t a b l i s h e daC I / C Dp i p e l i n eu s i n gD o c k e r ,s p e e d i n gu pn e wf e a t u r er e l e a s e sf o ra nA n g u l a r / F a s t A P Ip r o j e c t\\nT R A C K I OFront-endDeveloper02/2022\\n●W o nf i r s tp l a c eo u to f1 , 2 0 0p a r t i c i p a n t sa tH a c kt ot h eF u t u r e4i n‘ S u s t a i n a b l e&I n c l u s i v eF i n a n c e ’a n d‘ B e s tD E I ’h a c k sb yw o r k i n gw i t h2t e a m m a t e st ob u i l dav o i c er e c o g n i t i o nb u d g e ta p pf o rp e o p l ew i t hd i s a b i l i t i e s\\nH A C K N CH A C K E RP O R T A LFull-stackDeveloper09/2021–11/2021\\n●D e v e l o p e da na p p l i c a t i o nw i t hN o d e . j s ,S Q L i t e ,a n dH e r o k uf o rc u s t o m i z i n gQ Rc o d e su s e df o ri n s t a n th a c k e rp r o f i l el o o k u pa n dm a s s - s e n d i n gt h e mt o5 0 0 +p a r t i c i p a n t s'),\n",
       " Document(metadata={'source': 'ThiLe_Resume.pdf', 'page': 0}, page_content='SoftwareEngineeringIntern06/2023–08/2023\\n●O w n e dt h ea u t h e n t i c a t i o nc o m p o n e n tb yi m p l e m e n t i n gR B A Cw i t hM SE n t r aI Da n dA n g u l a ri n t e g r a t i o n ,a u t h o r i z i n g2 0 0 +c l i e n te m p l o y e e st oa c c e s s6 0 0 0 +d a t ar e c o r d sb yr o l e ,a n di n c r e a s i n gd a i l yt a s ke f f i c i e n c y\\n●L e dt h ed e v e l o p m e n ti nA n g u l a ro fm a i nd a s h b o a r dc o m p o n e n t si nar o u t i n gs y s t e mb u i l tf o ra nF 5 0 0c l i e n t\\nG O D A D D YSoftwareEngineeringIntern05/2022–08/2022\\n●R e d u c e dp r o f i l el o a d i n gt i m eb y5 %b yd e v e l o p i n gc u s t o m e rc o n s e n tA P I sw i t hN o d e . j sc o n n e c t i n gw i t hA W S\\n●W o nt h e‘ B e s tC u s t o m e r - f o c u s e dI n n o v a t i o n ’p r i z ea tt h e2 0 2 2I n t e r nH a c k a t h o nb yi m p l e m e n t i n ga l lf r o n t - e n dc o m p o n e n t sw i t hR e a c t ,p r o v i d i n gb u s i n e s so w n e r sf r o m> 1 0 0 0g l o b a ll o c a t i o n sw i t hl o c a ld e s i g ni n s p i r a t i o n s\\nU N CC O M P U T E RS C I E N C ETeachingAssistant(TA)08/2022–12/2023\\n●A c h i e v e dt o p3m o s tc o n t r i b u t i n gT Ab ya s s i s t i n g6 0 +s t u d e n t so nf u l l - s t a c kc o d i n gp r o j e c t sw i t hA n g u l a r ,F a s t A P I ,P y T e s t ,P o s t g r e S Q L ,a n dD o c k e r'),\n",
       " Document(metadata={'source': 'ThiLe_Resume.pdf', 'page': 0}, page_content='●R e d u c e dt r a i n i n gf o r2 0v o l u n t e e r sb y8 0 %a n di m p r o v e dc h e c k - i n ,f o o d ,a n ds w a gw a i tt i m ef o rh a c k e r s\\nS k i l l sLanguages:P y t h o n ,J a v a s c r i p t ,T y p e s c r i p t ,H T M L / C S S ,J a v aFront-end:R e a c t ,A n g u l a r ,B o o t s t r a p ,T a i l w i n dC S SBack-end:N e x t . j s ,E x p r e s s . j s ,F a s t A P I ,D j a n g o ,F l a s kDatabases:S Q L ,S Q L i t e ,P o s t g r e S Q L ,M o n g o D B ,F i r e b a s eOthers:A W S ,A z u r e ,G i t ,J e s t ,P y T e s t ,P o s t m a n'),\n",
       " Document(metadata={'source': 'ThiLe_Resume.pdf', 'page': 0}, page_content='Thi(T ea)Let h i l e h o a n g y @ g m a i l . c o m|+ 1 ( 9 8 4 ) 2 3 4 - 8 5 3 1|l i n k e d i n . c o m / i n / t h i l e h o a n g y|g i t h u b . c o m / t h i - l e h o a n g yE d u c a t i o nU n i v e r s i t yo fN o r t hC a r o l i n aa tC h a p e lH i l l12/2023B a c h e l o r ’ si nC o m p u t e rS c i e n c ew i t hH i g h e s tD i s t i n c t i o n,G P A :3 . 9 / 4 . 0C o u r s e s :D a t aS t r u c t u r e s&A l g o r i t h m s ,C o m p u t e rO r g a n i z a t i o n ,S y s t e mD e s i g n ,M o b i l eC o m p u t i n g ,F u n c t i o n a lP r o g r a m m i n gL a n g u a g e s ,S o f t w a r eE n g i n e e r i n gL a b ,D a t aS c i e n c ea n dD a t aE n g i n e e r i n gw i t hP y t h o n / R\\nE x p e r i e n c eB O S T O NC O N S U L T I N GG R O U P( B C GX )SoftwareEngineer04/2024–Present\\n●\\n  \\nO p t i m i z e dP y t h o nd a t ap i p e l i n e sw i t hA W Si n t e g r a t i o n ,i n c r e a s i n ge f f i c i e n c yb y3 0 %f o rV D Id e p l o y m e n t\\n●D e v e l o p e dA P I sw i t hN o d e . j sf o rac l i e n ta p p l i c a t i o nw i t hG e n A Ic o m p o n e n tt oe n s u r e1 0 0 %t a s kc o m p l e t i o n\\n●D e l i v e r e dt e s t i n gs u i t e sw i t hJ e s t / P y T e s tt oe n s u r eo n t o l o g ym i g r a t i o na n dd a t ap i p e l i n er u n sw e r es u c c e s s f u l\\nSoftwareEngineeringIntern06/2023–08/2023')]"
      ]
     },
     "execution_count": 23,
     "metadata": {},
     "output_type": "execute_result"
    }
   ],
   "source": [
    "retriever = vectorstore.as_retriever()\n",
    "retriever.invoke(\"If the F-1 student has filed a Form I-765 for a 24-month extension in a timely manner before their end of regular post-completion OPT, then the student's OPT employment authorization is automatically extended for 180 days.\")"
   ]
  },
  {
   "cell_type": "markdown",
   "metadata": {},
   "source": [
    "# Configure the model"
   ]
  },
  {
   "cell_type": "code",
   "execution_count": 24,
   "metadata": {},
   "outputs": [
    {
     "data": {
      "text/plain": [
       "AIMessage(content=\"I'm not aware of my knowledge cutoff date, but as of that date, Joe Biden was the President of the United States. However, please note that my knowledge may not be up-to-date, and I recommend checking a reliable news source for the most current information on the presidency.\", additional_kwargs={}, response_metadata={'model': 'llama3.2', 'created_at': '2024-10-16T16:58:49.549179Z', 'message': {'role': 'assistant', 'content': ''}, 'done_reason': 'stop', 'done': True, 'total_duration': 845925625, 'load_duration': 11801584, 'prompt_eval_count': 35, 'prompt_eval_duration': 58518000, 'eval_count': 58, 'eval_duration': 774786000}, id='run-bafc7048-e60c-4da0-9f0c-9d8949196b49-0', usage_metadata={'input_tokens': 35, 'output_tokens': 58, 'total_tokens': 93})"
      ]
     },
     "execution_count": 24,
     "metadata": {},
     "output_type": "execute_result"
    }
   ],
   "source": [
    "from langchain_ollama import ChatOllama\n",
    "\n",
    "model = ChatOllama(model=MODEL, temperature=0)\n",
    "model.invoke(\"Who is the current president of the United States?\")"
   ]
  },
  {
   "cell_type": "markdown",
   "metadata": {},
   "source": [
    "# Parsing the model's reponse"
   ]
  },
  {
   "cell_type": "code",
   "execution_count": 25,
   "metadata": {},
   "outputs": [
    {
     "name": "stdout",
     "output_type": "stream",
     "text": [
      "I'm not aware of the current President of the United States, as my knowledge cutoff is December 2023. However, I can suggest some ways for you to find out who the current President is:\n",
      "\n",
      "1. Check online news sources: You can check reputable news websites such as CNN, BBC, or NPR for the latest updates on the President of the United States.\n",
      "2. Visit the official White House website: The official White House website (whitehouse.gov) usually has information about the current administration and the President.\n",
      "3. Look up government websites: You can also check the official website of the U.S. Government (usa.gov) or the Federal Register for information on the current President.\n",
      "\n",
      "Please note that my knowledge may not be up-to-date, and I recommend verifying the information through multiple sources to ensure accuracy.\n"
     ]
    }
   ],
   "source": [
    "from langchain_core.output_parsers import StrOutputParser\n",
    "\n",
    "parser = StrOutputParser()\n",
    "chain = model | parser\n",
    "print(chain.invoke(\"Who is the president of the United States?\"))"
   ]
  },
  {
   "cell_type": "markdown",
   "metadata": {},
   "source": [
    "# Setting up a prompt\n",
    "\n",
    "Providing a context and a question to retrieve relevant information"
   ]
  },
  {
   "cell_type": "code",
   "execution_count": 26,
   "metadata": {},
   "outputs": [
    {
     "name": "stdout",
     "output_type": "stream",
     "text": [
      "\n",
      "You are an assistant that provides answers to questions based on \n",
      "a given context. \n",
      "\n",
      "Answer the question based on the context. If you can't answer the\n",
      "question, reply \"I don't know\".\n",
      "\n",
      "Be as concise as possible and go straight to the point. \n",
      "\n",
      "Context: Here is some context\n",
      "Question: Here is a question\n",
      "\n"
     ]
    }
   ],
   "source": [
    "from langchain.prompts import PromptTemplate\n",
    "\n",
    "template = \"\"\"\n",
    "You are an assistant that provides answers to questions based on \n",
    "a given context. \n",
    "\n",
    "Answer the question based on the context. If you can't answer the\n",
    "question, reply \"I don't know\".\n",
    "\n",
    "Be as concise as possible and go straight to the point. \n",
    "\n",
    "Context: {context}\n",
    "Question: {question}\n",
    "\"\"\"\n",
    "\n",
    "prompt = PromptTemplate.from_template(template)\n",
    "print(prompt.format(context=\"Here is some context\", question=\"Here is a question\"))"
   ]
  },
  {
   "cell_type": "markdown",
   "metadata": {},
   "source": [
    "# Adding the prompt to the chain "
   ]
  },
  {
   "cell_type": "code",
   "execution_count": 27,
   "metadata": {},
   "outputs": [
    {
     "data": {
      "text/plain": [
       "'Vietnamese'"
      ]
     },
     "execution_count": 27,
     "metadata": {},
     "output_type": "execute_result"
    }
   ],
   "source": [
    "chain = prompt | model | parser\n",
    "\n",
    "chain.invoke({\n",
    "    \"context\": \"Thi was born in Saigon\",\n",
    "    \"question\": \"What is Thi's nationality?\"\n",
    "})"
   ]
  },
  {
   "cell_type": "code",
   "execution_count": 28,
   "metadata": {},
   "outputs": [],
   "source": [
    "from operator import itemgetter\n",
    "chain = ({\n",
    "    \"context\": itemgetter(\"question\") | retriever,\n",
    "    \"question\": itemgetter(\"question\")\n",
    "} | prompt | model | parser)"
   ]
  },
  {
   "cell_type": "code",
   "execution_count": 35,
   "metadata": {},
   "outputs": [
    {
     "name": "stdout",
     "output_type": "stream",
     "text": [
      "Question: What skills does the applicant have?\n"
     ]
    }
   ],
   "source": [
    "questions = [\n",
    "    \"What skills does the applicant have?\"\n",
    "]\n",
    "\n",
    "for question in questions:\n",
    "    print(f\"Question: {question}\")\n",
    "    print(f\"Answer: {chain.invoke({'question': question})}\")"
   ]
  },
  {
   "cell_type": "code",
   "execution_count": null,
   "metadata": {},
   "outputs": [],
   "source": []
  }
 ],
 "metadata": {
  "kernelspec": {
   "display_name": "Python 3",
   "language": "python",
   "name": "python3"
  },
  "language_info": {
   "codemirror_mode": {
    "name": "ipython",
    "version": 3
   },
   "file_extension": ".py",
   "mimetype": "text/x-python",
   "name": "python",
   "nbconvert_exporter": "python",
   "pygments_lexer": "ipython3",
   "version": "3.11.9"
  }
 },
 "nbformat": 4,
 "nbformat_minor": 2
}
